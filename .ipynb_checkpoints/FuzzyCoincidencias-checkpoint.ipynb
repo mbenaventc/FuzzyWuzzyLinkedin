{
 "cells": [
  {
   "cell_type": "markdown",
   "id": "246d6bfe",
   "metadata": {},
   "source": [
    "# Coincidencia de columnas desordenadas de Pandas con FuzzyWuzzy\n",
    "\n"
   ]
  },
  {
   "cell_type": "markdown",
   "id": "bbef14c9",
   "metadata": {},
   "source": [
    "![header](https://i.ibb.co/wLxk8nK/dinoheader-th.jpg)\n",
    "\n",
    "En este notebook le mostraré cómo usar el paquete FuzzyWuzzy de Python para identificar coindidencias de  dos columnas de un dataset de Pandas utilizando la unción de la similitud de cadenas que nos aporta la liibrería FuzzyWuzzy\n",
    "\n",
    "El resultado que deseamos obtener es que cada uno de los valores de la columna A coincida con el valor correspondiente más cercano en la columna B, entiendo como valor más cercano aquel que **a nivel probabilistico** es más probable en función del diseño del algoritmos utilizado\n",
    "\n",
    "\n",
    "Para hacerlo he utilizado datos ficticios por lo que deberías poder adaptar esta pequeña utilizad al marco corporativo o empresarial al que desees aplicarlo  si finalmente decides que puede aportar automatización a tu proyecto \n",
    "\n",
    "\n",
    "Ahora, antes de abordar nuestro pequeño problema, esto es lo que puede esperar de este artículo:\n",
    "\n",
    "     Casi a diario cualquier analista de datos suele trabajar con fuentes de datos muy heterogeneas en los que se encunetra  que la misma entidad a analizar (unidad de negocio, país, provincia, dirección, número de teléfono, email ,etc) se escribe de forma distinta, bien por la normalización heredada de las fuentes de origen , errores de tipeado manual en las introducciones cuando los datos no están referenciados a tablas o enumarados , etc \n",
    "     \n",
    "     En este artículo, vamos a trabajar en hacer coincidir los nombres completos con los correos electrónicos. Sin embargo, puede aplicar las mismas técnicas para cualquier problema de coincidencia de cadenas que encuentre (la cadena es solo texto, en pocas palabras);\n",
    "\n",
    "     Les dejaré este Jupyter Notebook en mi mi repositorio de Github por si quieren descagarlo y testear lo\n",
    "\n",
    "     No será necesiario conocimientos amplios de Python, pero si sería deseable que estén familiarizdos con Pandas para el analisis de datos .\n",
    "     "
   ]
  },
  {
   "cell_type": "markdown",
   "id": "debd130f",
   "metadata": {},
   "source": [
    "\n",
    "# Indice:\n"
   ]
  },
  {
   "cell_type": "markdown",
   "id": "e8911560",
   "metadata": {},
   "source": [
    "* [Introduccion](#intro) <br>\n",
    "* [The problem](#theproblem)<br>\n",
    "* [The packages](#thepackages)<br>\n",
    "* [The data](#thedata)<br>\n",
    "* [The \"dumb but it kinda works\" solution](#thedumb)<br>\n",
    "* [The boring FuzzyWuzzy lecture](#theboring)<br>\n",
    "* [The not so boring FuzzyWuzzy application](#thenotsoboring)<br>\n",
    "* [The audit](#theaudit)<br>\n",
    "* [The quest for the best FuzzyWuzzy scorer](#thequest)<br>\n",
    "* [The battle of the scorers](#thebattle)<br>\n",
    "* [The verdict](#theverdict)<br>\n",
    "* [The appendix (code explanations)](#theappendix)\n",
    "* [Parting notes](#parting)"
   ]
  },
  {
   "cell_type": "markdown",
   "id": "5dadf4f6",
   "metadata": {},
   "source": [
    "# Instalación de paquetes utilizados"
   ]
  },
  {
   "cell_type": "markdown",
   "id": "72b93859",
   "metadata": {},
   "source": [
    "En primer lugar, importamos la libreria de Pandas :"
   ]
  },
  {
   "cell_type": "code",
   "execution_count": 2,
   "id": "1ff7e0cb",
   "metadata": {},
   "outputs": [],
   "source": [
    "import pandas as pd"
   ]
  },
  {
   "cell_type": "markdown",
   "id": "4ffbda13",
   "metadata": {},
   "source": [
    "Será necesario que tengas instalado para poder utilizar esta utilizar el paquete $FuzzyWuzzy$ y algunsos de sus modulos.\n",
    "\n",
    "\n",
    "Puedes instalarlo con pip desde este Jupyter Notebook -- $pip install fuzzywuzzy$' ---   o también puedes instalarlo desde la consola de Anaconda si estas utilizando estra distribución. Debes instalarlo como `pip install fuzzywuzzy` y posteriormentte isntalar la utilizad para usar el algoritmo de --levenshtein` como  `$pip install python-Levenshtein$` \n"
   ]
  },
  {
   "cell_type": "code",
   "execution_count": 3,
   "id": "bd04b7d2",
   "metadata": {},
   "outputs": [],
   "source": [
    "from fuzzywuzzy import process, fuzz"
   ]
  },
  {
   "cell_type": "markdown",
   "id": "aa9a8d53",
   "metadata": {},
   "source": [
    "La parte de visualización la abordaremos con  `matplotlib`:"
   ]
  },
  {
   "cell_type": "code",
   "execution_count": 4,
   "id": "a584ec95",
   "metadata": {},
   "outputs": [],
   "source": [
    "import matplotlib.pyplot as plt"
   ]
  },
  {
   "cell_type": "markdown",
   "id": "90e407dd",
   "metadata": {},
   "source": [
    " And for good measure, let's add some CSS to style our dataframes for added contrast between the axes and the data itself (If you don't like this style, just delete the cell, restart the kernel and re-run all cells). <br>\n",
    "<sub id='codex'>[code explanation 1](#codex1)</sub>\n",
    "<a id='code1'></a>"
   ]
  },
  {
   "cell_type": "markdown",
   "id": "a5bf7310",
   "metadata": {},
   "source": [
    "Utilizaremos para este proyecto dos dataframes para realizar los matches :\n",
    "\n",
    "* `hr` that contains employee IDs and full names, as maintained by the HR department ;\n",
    "* `it` that contains only the emails extracted by the IT department.\n",
    "\n",
    "Los dataset se encuentra en la carpeta datos del repositorio de Github que os anexo. Asegurate de cambiar los path a los que tengas establecidos en tu repositorio local sure to change the 'data/hr.csv' and 'data/it.csv' paths to where your data is placed in your machine (don't forget to get the data from this article's [Github repository](https://github.com/mbenaventc/FuzzyWuzzyLinkedin) :"
   ]
  },
  {
   "cell_type": "code",
   "execution_count": null,
   "id": "a7feb9e5",
   "metadata": {},
   "outputs": [],
   "source": []
  }
 ],
 "metadata": {
  "kernelspec": {
   "display_name": "Python 3 (ipykernel)",
   "language": "python",
   "name": "python3"
  },
  "language_info": {
   "codemirror_mode": {
    "name": "ipython",
    "version": 3
   },
   "file_extension": ".py",
   "mimetype": "text/x-python",
   "name": "python",
   "nbconvert_exporter": "python",
   "pygments_lexer": "ipython3",
   "version": "3.9.7"
  }
 },
 "nbformat": 4,
 "nbformat_minor": 5
}
