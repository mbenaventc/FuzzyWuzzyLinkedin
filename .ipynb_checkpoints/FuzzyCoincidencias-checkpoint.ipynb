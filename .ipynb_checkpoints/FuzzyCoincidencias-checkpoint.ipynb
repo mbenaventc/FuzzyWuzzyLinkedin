{
 "cells": [
  {
   "cell_type": "markdown",
   "id": "246d6bfe",
   "metadata": {},
   "source": [
    "# Coincidencia de columnas desordenadas de Pandas con FuzzyWuzzy\n",
    "\n"
   ]
  },
  {
   "cell_type": "markdown",
   "id": "bbef14c9",
   "metadata": {},
   "source": [
    "![header](https://github.com/mbenaventc/FuzzyWuzzyLinkedin/tree/master/datos/pandasWeb.jpg)\n",
    "\n",
    "En este notebook le mostraré cómo usar el paquete FuzzyWuzzy de Python para identificar coindidencias de  dos columnas de un dataset de Pandas utilizando la unción de la similitud de cadenas que nos aporta la liibrería FuzzyWuzzy\n",
    "\n",
    "El resultado que deseamos obtener es que cada uno de los valores de la columna A coincida con el valor correspondiente más cercano en la columna B, entiendo como valor más cercano aquel que **a nivel probabilistico** es más probable en función del diseño del algoritmos utilizado\n",
    "\n",
    "\n",
    "Para hacerlo he utilizado datos ficticios por lo que deberías poder adaptar esta pequeña utilizad al marco corporativo o empresarial al que desees aplicarlo  si finalmente decides que puede aportar automatización a tu proyecto \n",
    "\n",
    "\n",
    "Ahora, antes de abordar nuestro pequeño problema, esto es lo que puede esperar de este artículo:\n",
    "\n",
    "     Casi a diario cualquier analista de datos suele trabajar con fuentes de datos muy heterogeneas en los que se encunetra  que la misma entidad a analizar (unidad de negocio, país, provincia, dirección, número de teléfono, email ,etc) se escribe de forma distinta, bien por la normalización heredada de las fuentes de origen , errores de tipeado manual en las introducciones cuando los datos no están referenciados a tablas o enumarados , etc \n",
    "     \n",
    "     En este artículo, vamos a trabajar en hacer coincidir los nombres completos con los correos electrónicos. Sin embargo, puede aplicar las mismas técnicas para cualquier problema de coincidencia de cadenas que encuentre (la cadena es solo texto, en pocas palabras);\n",
    "\n",
    "     Les dejaré este Jupyter Notebook en mi mi repositorio de Github por si quieren descagarlo y testear lo\n",
    "\n",
    "     No será necesiario conocimientos amplios de Python, pero si sería deseable que estén familiarizdos con Pandas para el analisis de datos .\n",
    "     "
   ]
  },
  {
   "cell_type": "markdown",
   "id": "debd130f",
   "metadata": {},
   "source": [
    "\n",
    "# Indice:\n"
   ]
  },
  {
   "cell_type": "markdown",
   "id": "e8911560",
   "metadata": {},
   "source": [
    "* [Introduccion](#intro) <br>\n",
    "* [The problem](#theproblem)<br>\n",
    "* [The packages](#thepackages)<br>\n",
    "* [The data](#thedata)<br>\n",
    "* [The \"dumb but it kinda works\" solution](#thedumb)<br>\n",
    "* [The boring FuzzyWuzzy lecture](#theboring)<br>\n",
    "* [The not so boring FuzzyWuzzy application](#thenotsoboring)<br>\n",
    "* [The audit](#theaudit)<br>\n",
    "* [The quest for the best FuzzyWuzzy scorer](#thequest)<br>\n",
    "* [The battle of the scorers](#thebattle)<br>\n",
    "* [The verdict](#theverdict)<br>\n",
    "* [The appendix (code explanations)](#theappendix)\n",
    "* [Parting notes](#parting)"
   ]
  },
  {
   "cell_type": "markdown",
   "id": "5dadf4f6",
   "metadata": {},
   "source": [
    "# Instalación de paquetes utilizados"
   ]
  },
  {
   "cell_type": "markdown",
   "id": "72b93859",
   "metadata": {},
   "source": [
    "En primer lugar, importamos la libreria de Pandas :"
   ]
  },
  {
   "cell_type": "code",
   "execution_count": 98,
   "id": "1ff7e0cb",
   "metadata": {},
   "outputs": [],
   "source": [
    "import pandas as pd"
   ]
  },
  {
   "cell_type": "markdown",
   "id": "4ffbda13",
   "metadata": {},
   "source": [
    "Será necesario que tengas instalado para poder utilizar esta utilizar el paquete $FuzzyWuzzy$ y algunos de sus modulos.\n",
    "\n",
    "\n",
    "Puedes instalarlo con pip desde este Jupyter Notebook -- $pip install fuzzywuzzy$' ---   o también puedes instalarlo desde la consola de Anaconda si estas utilizando estra distribución. Debes instalarlo como `pip install fuzzywuzzy` y posteriormentte isntalar la utilizad para usar el algoritmo de --levenshtein` como  `$pip install python-Levenshtein$` \n"
   ]
  },
  {
   "cell_type": "code",
   "execution_count": 99,
   "id": "bd04b7d2",
   "metadata": {},
   "outputs": [],
   "source": [
    "from fuzzywuzzy import process, fuzz"
   ]
  },
  {
   "cell_type": "markdown",
   "id": "aa9a8d53",
   "metadata": {},
   "source": [
    "La parte de visualización la abordaremos con  `matplotlib`:"
   ]
  },
  {
   "cell_type": "code",
   "execution_count": 100,
   "id": "a584ec95",
   "metadata": {},
   "outputs": [],
   "source": [
    "import matplotlib.pyplot as plt"
   ]
  },
  {
   "cell_type": "code",
   "execution_count": 101,
   "id": "e6ded478",
   "metadata": {},
   "outputs": [
    {
     "ename": "SyntaxError",
     "evalue": "invalid syntax (Temp/ipykernel_19140/921207341.py, line 1)",
     "output_type": "error",
     "traceback": [
      "\u001b[1;36m  File \u001b[1;32m\"C:\\Users\\MBENAV~1\\AppData\\Local\\Temp/ipykernel_19140/921207341.py\"\u001b[1;36m, line \u001b[1;32m1\u001b[0m\n\u001b[1;33m    Trataremos de configurar una clase CSS para que la visualizacion de datos sea un poco más estética.\u001b[0m\n\u001b[1;37m               ^\u001b[0m\n\u001b[1;31mSyntaxError\u001b[0m\u001b[1;31m:\u001b[0m invalid syntax\n"
     ]
    }
   ],
   "source": [
    "Trataremos de configurar una clase CSS para que la visualizacion de datos sea un poco más estética."
   ]
  },
  {
   "cell_type": "code",
   "execution_count": 102,
   "id": "b4838e5c",
   "metadata": {},
   "outputs": [
    {
     "data": {
      "text/html": [
       "<style>.dataframe th, td:first-child{background:#3f577c;font-family:monospace;color:white;border:3px solid white;\n",
       "text-align:left !important;}#codex{float:right;}</style>\n"
      ],
      "text/plain": [
       "<IPython.core.display.HTML object>"
      ]
     },
     "metadata": {},
     "output_type": "display_data"
    }
   ],
   "source": [
    "%%HTML\n",
    "<style>.dataframe th, td:first-child{background:#3f577c;font-family:monospace;color:white;border:3px solid white;\n",
    "text-align:left !important;}#codex{float:right;}</style>"
   ]
  },
  {
   "cell_type": "code",
   "execution_count": 103,
   "id": "cb091a58",
   "metadata": {},
   "outputs": [],
   "source": [
    "th_props = [('background','#3f577c'), ('font-family','monospace'), ('color','#ff85d5'),('border','3px solid white'),\n",
    "            ('text-align','left !important')]\n",
    "styles = [dict(selector=\"th\", props=th_props)]"
   ]
  },
  {
   "cell_type": "markdown",
   "id": "a5bf7310",
   "metadata": {},
   "source": [
    "Utilizaremos para este proyecto dos dataframes para realizar los matches :\n",
    "\n",
    "* `cvias` contiene los datos de todas las vías de un municipio , extraidas del callejero Españo.  \n",
    "* `tvias` contiene las direcciones de las viviendas en venta en puertollano - $anonimizado$  - que ha registrado un portal inmobiliario n una base de datos en los que la dirección ha sido tipeada manualmente\n",
    "\n",
    "\n",
    "Los dataset se encuentra en la carpeta datos del repositorio de Github que os anexo. \n",
    "\n",
    "Asegurate de cambiar los path a los que tengas establecidos en tu repositorio local de los ficheros\n",
    "'datos/cvias.xlsx' y 'datos/tvias.xlsx'[Github repository](https://github.com/mbenaventc/FuzzyWuzzyLinkedin) :"
   ]
  },
  {
   "cell_type": "markdown",
   "id": "a1a1eb7f",
   "metadata": {},
   "source": [
    "# LOS DATOS"
   ]
  },
  {
   "cell_type": "code",
   "execution_count": 104,
   "id": "a7feb9e5",
   "metadata": {},
   "outputs": [],
   "source": [
    "cvias = pd.read_excel('datos/cvias.xlsx')\n",
    "tvias=pd.read_excel('datos/tvias.xlsx')\n"
   ]
  },
  {
   "cell_type": "code",
   "execution_count": 105,
   "id": "f69c851f",
   "metadata": {},
   "outputs": [
    {
     "data": {
      "text/html": [
       "<div>\n",
       "<style scoped>\n",
       "    .dataframe tbody tr th:only-of-type {\n",
       "        vertical-align: middle;\n",
       "    }\n",
       "\n",
       "    .dataframe tbody tr th {\n",
       "        vertical-align: top;\n",
       "    }\n",
       "\n",
       "    .dataframe thead th {\n",
       "        text-align: right;\n",
       "    }\n",
       "</style>\n",
       "<table border=\"1\" class=\"dataframe\">\n",
       "  <thead>\n",
       "    <tr style=\"text-align: right;\">\n",
       "      <th></th>\n",
       "      <th>CP</th>\n",
       "      <th>CM</th>\n",
       "      <th>CV</th>\n",
       "      <th>TV</th>\n",
       "      <th>NOMBRE_VIA</th>\n",
       "    </tr>\n",
       "  </thead>\n",
       "  <tbody>\n",
       "    <tr>\n",
       "      <th>0</th>\n",
       "      <td>13</td>\n",
       "      <td>71</td>\n",
       "      <td>819</td>\n",
       "      <td>CL</td>\n",
       "      <td>FERRAZ - VILLAR</td>\n",
       "    </tr>\n",
       "    <tr>\n",
       "      <th>1</th>\n",
       "      <td>13</td>\n",
       "      <td>71</td>\n",
       "      <td>722</td>\n",
       "      <td>CL</td>\n",
       "      <td>SAN MIGUEL - VILLAR</td>\n",
       "    </tr>\n",
       "    <tr>\n",
       "      <th>2</th>\n",
       "      <td>13</td>\n",
       "      <td>71</td>\n",
       "      <td>860</td>\n",
       "      <td>TR</td>\n",
       "      <td>1 PINO</td>\n",
       "    </tr>\n",
       "    <tr>\n",
       "      <th>3</th>\n",
       "      <td>13</td>\n",
       "      <td>71</td>\n",
       "      <td>973</td>\n",
       "      <td>CL</td>\n",
       "      <td>5-SECTOR III</td>\n",
       "    </tr>\n",
       "    <tr>\n",
       "      <th>4</th>\n",
       "      <td>13</td>\n",
       "      <td>71</td>\n",
       "      <td>1</td>\n",
       "      <td>CL</td>\n",
       "      <td>ABAJO</td>\n",
       "    </tr>\n",
       "    <tr>\n",
       "      <th>5</th>\n",
       "      <td>13</td>\n",
       "      <td>71</td>\n",
       "      <td>901</td>\n",
       "      <td>PZ</td>\n",
       "      <td>ABENOJAR</td>\n",
       "    </tr>\n",
       "    <tr>\n",
       "      <th>6</th>\n",
       "      <td>13</td>\n",
       "      <td>71</td>\n",
       "      <td>145</td>\n",
       "      <td>CL</td>\n",
       "      <td>ADUANA</td>\n",
       "    </tr>\n",
       "    <tr>\n",
       "      <th>7</th>\n",
       "      <td>13</td>\n",
       "      <td>71</td>\n",
       "      <td>3</td>\n",
       "      <td>CL</td>\n",
       "      <td>AGUILERA</td>\n",
       "    </tr>\n",
       "    <tr>\n",
       "      <th>8</th>\n",
       "      <td>13</td>\n",
       "      <td>71</td>\n",
       "      <td>4</td>\n",
       "      <td>CL</td>\n",
       "      <td>AGUSTINA DE ARAGON</td>\n",
       "    </tr>\n",
       "    <tr>\n",
       "      <th>9</th>\n",
       "      <td>13</td>\n",
       "      <td>71</td>\n",
       "      <td>5</td>\n",
       "      <td>CL</td>\n",
       "      <td>ALAMEDA</td>\n",
       "    </tr>\n",
       "  </tbody>\n",
       "</table>\n",
       "</div>"
      ],
      "text/plain": [
       "   CP  CM   CV  TV           NOMBRE_VIA\n",
       "0  13  71  819  CL      FERRAZ - VILLAR\n",
       "1  13  71  722  CL  SAN MIGUEL - VILLAR\n",
       "2  13  71  860  TR               1 PINO\n",
       "3  13  71  973  CL         5-SECTOR III\n",
       "4  13  71    1  CL                ABAJO\n",
       "5  13  71  901  PZ             ABENOJAR\n",
       "6  13  71  145  CL               ADUANA\n",
       "7  13  71    3  CL             AGUILERA\n",
       "8  13  71    4  CL   AGUSTINA DE ARAGON\n",
       "9  13  71    5  CL              ALAMEDA"
      ]
     },
     "execution_count": 105,
     "metadata": {},
     "output_type": "execute_result"
    }
   ],
   "source": [
    "cvias.head(10) # Datos del callejero español"
   ]
  },
  {
   "cell_type": "code",
   "execution_count": 106,
   "id": "146eb2dc",
   "metadata": {},
   "outputs": [
    {
     "data": {
      "text/html": [
       "<div>\n",
       "<style scoped>\n",
       "    .dataframe tbody tr th:only-of-type {\n",
       "        vertical-align: middle;\n",
       "    }\n",
       "\n",
       "    .dataframe tbody tr th {\n",
       "        vertical-align: top;\n",
       "    }\n",
       "\n",
       "    .dataframe thead th {\n",
       "        text-align: right;\n",
       "    }\n",
       "</style>\n",
       "<table border=\"1\" class=\"dataframe\">\n",
       "  <thead>\n",
       "    <tr style=\"text-align: right;\">\n",
       "      <th></th>\n",
       "      <th>id_vivienda</th>\n",
       "      <th>Direccion</th>\n",
       "    </tr>\n",
       "  </thead>\n",
       "  <tbody>\n",
       "    <tr>\n",
       "      <th>0</th>\n",
       "      <td>1</td>\n",
       "      <td>Ave Maria</td>\n",
       "    </tr>\n",
       "    <tr>\n",
       "      <th>1</th>\n",
       "      <td>2</td>\n",
       "      <td>ANCHA</td>\n",
       "    </tr>\n",
       "    <tr>\n",
       "      <th>2</th>\n",
       "      <td>3</td>\n",
       "      <td>Ancha</td>\n",
       "    </tr>\n",
       "    <tr>\n",
       "      <th>3</th>\n",
       "      <td>4</td>\n",
       "      <td>Peru</td>\n",
       "    </tr>\n",
       "    <tr>\n",
       "      <th>4</th>\n",
       "      <td>6</td>\n",
       "      <td>M. Auxiliadora</td>\n",
       "    </tr>\n",
       "    <tr>\n",
       "      <th>5</th>\n",
       "      <td>17</td>\n",
       "      <td>Calle Alamillo</td>\n",
       "    </tr>\n",
       "    <tr>\n",
       "      <th>6</th>\n",
       "      <td>18</td>\n",
       "      <td>Isabel la Catolica Salesianos</td>\n",
       "    </tr>\n",
       "    <tr>\n",
       "      <th>7</th>\n",
       "      <td>19</td>\n",
       "      <td>Alzazar</td>\n",
       "    </tr>\n",
       "    <tr>\n",
       "      <th>8</th>\n",
       "      <td>20</td>\n",
       "      <td>Calle Oriente</td>\n",
       "    </tr>\n",
       "    <tr>\n",
       "      <th>9</th>\n",
       "      <td>21</td>\n",
       "      <td>C. Albacete</td>\n",
       "    </tr>\n",
       "  </tbody>\n",
       "</table>\n",
       "</div>"
      ],
      "text/plain": [
       "   id_vivienda                      Direccion\n",
       "0            1                      Ave Maria\n",
       "1            2                          ANCHA\n",
       "2            3                          Ancha\n",
       "3            4                           Peru\n",
       "4            6                 M. Auxiliadora\n",
       "5           17                 Calle Alamillo\n",
       "6           18  Isabel la Catolica Salesianos\n",
       "7           19                        Alzazar\n",
       "8           20                  Calle Oriente\n",
       "9           21                    C. Albacete"
      ]
     },
     "execution_count": 106,
     "metadata": {},
     "output_type": "execute_result"
    }
   ],
   "source": [
    "tvias.head(10) # Datos del callejero español"
   ]
  },
  {
   "cell_type": "markdown",
   "id": "9f54c49e",
   "metadata": {},
   "source": [
    "# El problema :"
   ]
  },
  {
   "cell_type": "markdown",
   "id": "4199fd6e",
   "metadata": {},
   "source": [
    "Antes de explorar el con  con la magia de `FuzzyWuzzy`, me gustaría explorar una solución a este problema que inicialmente podría realizase con una simple hoja de cálculo .La idea es:\n",
    "\n",
    "1. Comparar la columna NOMBRE_VIA del fichero de vías del catastro tienen alguna correspondencia $exacta$ con la columna $Direccion$ del fichero de cvias que está usando el portal inmobiliario para registrar las direcciones.\n",
    "\n",
    "\n",
    "2. Compararemos ambos valores , siendo  **Verdadero** si hay correspondencia exacta y un valor de **Falso** si no existe. . Los valores Verdadero y Falso se almacenarán en una columna llamada `EXISTE`."
   ]
  },
  {
   "cell_type": "code",
   "execution_count": 107,
   "id": "0b318b08",
   "metadata": {},
   "outputs": [],
   "source": [
    "\n",
    "tvias['EXISTE'] = tvias.apply(lambda x: x.Direccion in list(cvias.NOMBRE_VIA), axis=1)\n"
   ]
  },
  {
   "cell_type": "code",
   "execution_count": 121,
   "id": "a4a15a26",
   "metadata": {},
   "outputs": [
    {
     "data": {
      "text/html": [
       "<div>\n",
       "<style scoped>\n",
       "    .dataframe tbody tr th:only-of-type {\n",
       "        vertical-align: middle;\n",
       "    }\n",
       "\n",
       "    .dataframe tbody tr th {\n",
       "        vertical-align: top;\n",
       "    }\n",
       "\n",
       "    .dataframe thead th {\n",
       "        text-align: right;\n",
       "    }\n",
       "</style>\n",
       "<table border=\"1\" class=\"dataframe\">\n",
       "  <thead>\n",
       "    <tr style=\"text-align: right;\">\n",
       "      <th></th>\n",
       "      <th>id_vivienda</th>\n",
       "      <th>Direccion</th>\n",
       "      <th>EXISTE</th>\n",
       "      <th>calle_problable</th>\n",
       "      <th>similitud</th>\n",
       "    </tr>\n",
       "  </thead>\n",
       "  <tbody>\n",
       "    <tr>\n",
       "      <th>0</th>\n",
       "      <td>1</td>\n",
       "      <td>Ave Maria</td>\n",
       "      <td>False</td>\n",
       "      <td>AVE MARIA</td>\n",
       "      <td>100</td>\n",
       "    </tr>\n",
       "    <tr>\n",
       "      <th>1</th>\n",
       "      <td>2</td>\n",
       "      <td>ANCHA</td>\n",
       "      <td>True</td>\n",
       "      <td>ANCHA</td>\n",
       "      <td>100</td>\n",
       "    </tr>\n",
       "    <tr>\n",
       "      <th>2</th>\n",
       "      <td>3</td>\n",
       "      <td>Ancha</td>\n",
       "      <td>False</td>\n",
       "      <td>ANCHA</td>\n",
       "      <td>100</td>\n",
       "    </tr>\n",
       "    <tr>\n",
       "      <th>3</th>\n",
       "      <td>4</td>\n",
       "      <td>Peru</td>\n",
       "      <td>False</td>\n",
       "      <td>PERU</td>\n",
       "      <td>100</td>\n",
       "    </tr>\n",
       "    <tr>\n",
       "      <th>4</th>\n",
       "      <td>6</td>\n",
       "      <td>M. Auxiliadora</td>\n",
       "      <td>False</td>\n",
       "      <td>MARIA AUXILIADORA</td>\n",
       "      <td>87</td>\n",
       "    </tr>\n",
       "    <tr>\n",
       "      <th>5</th>\n",
       "      <td>17</td>\n",
       "      <td>Calle Alamillo</td>\n",
       "      <td>False</td>\n",
       "      <td>ALAMILLO</td>\n",
       "      <td>90</td>\n",
       "    </tr>\n",
       "    <tr>\n",
       "      <th>6</th>\n",
       "      <td>18</td>\n",
       "      <td>Isabel la Catolica Salesianos</td>\n",
       "      <td>False</td>\n",
       "      <td>ISABEL LA CATOLICA</td>\n",
       "      <td>90</td>\n",
       "    </tr>\n",
       "    <tr>\n",
       "      <th>7</th>\n",
       "      <td>19</td>\n",
       "      <td>Alzazar</td>\n",
       "      <td>False</td>\n",
       "      <td>ALCAZAR</td>\n",
       "      <td>86</td>\n",
       "    </tr>\n",
       "    <tr>\n",
       "      <th>8</th>\n",
       "      <td>20</td>\n",
       "      <td>Calle Oriente</td>\n",
       "      <td>False</td>\n",
       "      <td>ORIENTE</td>\n",
       "      <td>90</td>\n",
       "    </tr>\n",
       "    <tr>\n",
       "      <th>9</th>\n",
       "      <td>21</td>\n",
       "      <td>C. Albacete</td>\n",
       "      <td>False</td>\n",
       "      <td>ALBACETE</td>\n",
       "      <td>95</td>\n",
       "    </tr>\n",
       "  </tbody>\n",
       "</table>\n",
       "</div>"
      ],
      "text/plain": [
       "   id_vivienda                      Direccion  EXISTE     calle_problable  \\\n",
       "0            1                      Ave Maria   False           AVE MARIA   \n",
       "1            2                          ANCHA    True               ANCHA   \n",
       "2            3                          Ancha   False               ANCHA   \n",
       "3            4                           Peru   False                PERU   \n",
       "4            6                 M. Auxiliadora   False   MARIA AUXILIADORA   \n",
       "5           17                 Calle Alamillo   False            ALAMILLO   \n",
       "6           18  Isabel la Catolica Salesianos   False  ISABEL LA CATOLICA   \n",
       "7           19                        Alzazar   False             ALCAZAR   \n",
       "8           20                  Calle Oriente   False             ORIENTE   \n",
       "9           21                    C. Albacete   False            ALBACETE   \n",
       "\n",
       "   similitud  \n",
       "0        100  \n",
       "1        100  \n",
       "2        100  \n",
       "3        100  \n",
       "4         87  \n",
       "5         90  \n",
       "6         90  \n",
       "7         86  \n",
       "8         90  \n",
       "9         95  "
      ]
     },
     "execution_count": 121,
     "metadata": {},
     "output_type": "execute_result"
    }
   ],
   "source": [
    "tvias.head(10)\n"
   ]
  },
  {
   "cell_type": "markdown",
   "id": "4ced91f6",
   "metadata": {},
   "source": [
    "### Cuantos valores hubiesemos conseguido cruzar con este método?"
   ]
  },
  {
   "cell_type": "code",
   "execution_count": 123,
   "id": "2d958af5",
   "metadata": {},
   "outputs": [
    {
     "data": {
      "image/png": "[encoded data removed]",
      "text/plain": [
       "<Figure size 432x72 with 1 Axes>"
      ]
     },
     "metadata": {
      "needs_background": "light"
     },
     "output_type": "display_data"
    }
   ],
   "source": [
    "ax = tvias.EXISTE.value_counts().sort_values().plot(kind='barh', color=['tomato', 'c'], figsize=(6,1), width=0.5)\n",
    "plt.xlim(0,50), plt.xticks(fontsize=10), ax.set_frame_on(True), plt.grid(color='blue', alpha=.4, axis='x') ;"
   ]
  },
  {
   "cell_type": "markdown",
   "id": "9336c49e",
   "metadata": {},
   "source": [
    "Solo **1 valor** frente a los  **9 que no los ha localizado** (un ratio de 10 %). \n",
    "\n",
    "Si bien es cierto que con un tratamiento de cadena de texto convirtiendo todo a mayusculas, etc, hubise garantizado un cruce y un ratio un poco mayor pero no hubiese solucionado nada que no se hubiese podido solucionar utilizando la función de excel $Igual (A1,B1)$  para comparar cadenas-\n"
   ]
  },
  {
   "cell_type": "code",
   "execution_count": 143,
   "id": "3d4205af",
   "metadata": {},
   "outputs": [
    {
     "data": {
      "text/html": [
       "<div>\n",
       "<style scoped>\n",
       "    .dataframe tbody tr th:only-of-type {\n",
       "        vertical-align: middle;\n",
       "    }\n",
       "\n",
       "    .dataframe tbody tr th {\n",
       "        vertical-align: top;\n",
       "    }\n",
       "\n",
       "    .dataframe thead th {\n",
       "        text-align: right;\n",
       "    }\n",
       "</style>\n",
       "<table border=\"1\" class=\"dataframe\">\n",
       "  <thead>\n",
       "    <tr style=\"text-align: right;\">\n",
       "      <th></th>\n",
       "      <th>CP</th>\n",
       "      <th>CM</th>\n",
       "      <th>CV</th>\n",
       "      <th>TV</th>\n",
       "      <th>NOMBRE_VIA</th>\n",
       "    </tr>\n",
       "  </thead>\n",
       "  <tbody>\n",
       "    <tr>\n",
       "      <th>0</th>\n",
       "      <td>13</td>\n",
       "      <td>71</td>\n",
       "      <td>819</td>\n",
       "      <td>CL</td>\n",
       "      <td>FERRAZ - VILLAR</td>\n",
       "    </tr>\n",
       "    <tr>\n",
       "      <th>1</th>\n",
       "      <td>13</td>\n",
       "      <td>71</td>\n",
       "      <td>722</td>\n",
       "      <td>CL</td>\n",
       "      <td>SAN MIGUEL - VILLAR</td>\n",
       "    </tr>\n",
       "    <tr>\n",
       "      <th>2</th>\n",
       "      <td>13</td>\n",
       "      <td>71</td>\n",
       "      <td>860</td>\n",
       "      <td>TR</td>\n",
       "      <td>1 PINO</td>\n",
       "    </tr>\n",
       "    <tr>\n",
       "      <th>3</th>\n",
       "      <td>13</td>\n",
       "      <td>71</td>\n",
       "      <td>973</td>\n",
       "      <td>CL</td>\n",
       "      <td>5-SECTOR III</td>\n",
       "    </tr>\n",
       "    <tr>\n",
       "      <th>4</th>\n",
       "      <td>13</td>\n",
       "      <td>71</td>\n",
       "      <td>1</td>\n",
       "      <td>CL</td>\n",
       "      <td>ABAJO</td>\n",
       "    </tr>\n",
       "  </tbody>\n",
       "</table>\n",
       "</div>"
      ],
      "text/plain": [
       "   CP  CM   CV  TV           NOMBRE_VIA\n",
       "0  13  71  819  CL      FERRAZ - VILLAR\n",
       "1  13  71  722  CL  SAN MIGUEL - VILLAR\n",
       "2  13  71  860  TR               1 PINO\n",
       "3  13  71  973  CL         5-SECTOR III\n",
       "4  13  71    1  CL                ABAJO"
      ]
     },
     "execution_count": 143,
     "metadata": {},
     "output_type": "execute_result"
    }
   ],
   "source": [
    "tvias2=tvias\n",
    "cvias2=cvias\n",
    "cvias2.head()"
   ]
  },
  {
   "cell_type": "code",
   "execution_count": 110,
   "id": "08a3f35d",
   "metadata": {},
   "outputs": [],
   "source": [
    "# USANDO FUZZYWUZZY"
   ]
  },
  {
   "cell_type": "markdown",
   "id": "ff7d5e5b",
   "metadata": {},
   "source": [
    "Comenzaremos con una introducción básica a `FuzzyWuzzy`. \n",
    "\n",
    "Este ingenioso paquete compara dos cadenas A y B y genera una relación que estima la distancia entre ellas. Estamos hablando de la **distancia de Levenshtein**, que es la distancia entre A y B en términos de cuántos cambios tenemos que hacer en la cadena A para transformarla en la cadena B. \n",
    "\n",
    "Los cambios incluyen eliminar, agregar o sustitución de caracteres. Cuantos menos cambios tengamos que hacer, más similares serán A y B, lo que da como resultado una relación más alta.\n",
    "\n",
    "El principio de este notebook si recuerdas importamos tanto `fuzz` como `process` del paquete `FuzzWuzzy`. \n",
    "\n",
    "Estos son los dos módulos principales que vamos a utilizar en este artículo:\n",
    "\n",
    ">* **process.extract**: toma una cadena A y luego busca las mejores coincidencias para ella en una lista de cadenas, luego devuelve estas cadenas junto con sus proporciones (el parámetro de límite le dice al módulo cuántas cadenas similares quiere volver). Por ejemplo: <br><br>\n",
    ">**fuzz.ratio**: compara dos cadenas y genera una relación. Por ejemplo:\n",
    "fuzz.ratio( \"¡Afuera hace sol!\", \"Afuera hace mucho sol\")<br>\n",
    "Salida: 38\n",
    "\n",
    ">* **process.extract**: toma una cadena A y luego busca las mejores coincidencias para ella en una lista de cadenas, luego devuelve estas cadenas junto con sus proporciones (con el parámetro de límite le indicamos al módulo cuántas cadenas similares quiere volver). Por ejemplo: <br><br>\n",
    "lista_de_cadenas = ['a', 'ab', 'c', 'cd'] <br>\n",
    "proceso.extract( 'aaa', lista_de_cadenas, límite=2 ) <br>\n",
    "Salida: [('a', 90), ('ab', 45)]"
   ]
  },
  {
   "cell_type": "markdown",
   "id": "b2577ae0",
   "metadata": {},
   "source": [
    "# APLICANDO FUZZYWUZZY "
   ]
  },
  {
   "cell_type": "markdown",
   "id": "bfac5826",
   "metadata": {},
   "source": [
    "En nuestro caso como exponíamos anteriormente en este notebook  queremos comparar cada NOMBRE DIA VIA de la base de datos de la inmobiliaria  definido en la columna `t.direccion ` con tods las vias que se encuentrar registradas en el catrasto que estan  en la columna `cvias.NOMBRE_via`por lo que usaremos **process.extract** para comparar ambas columnas.\n"
   ]
  },
  {
   "cell_type": "code",
   "execution_count": 111,
   "id": "841f9f0a",
   "metadata": {},
   "outputs": [],
   "source": [
    "calle_probable = []\n",
    "probabilidad = []\n",
    "\n",
    "for i in tvias.Direccion:\n",
    "        ratio = process.extract( i, cvias.NOMBRE_VIA, limit=1)\n",
    "        calle_probable.append(ratio[0][0])\n",
    "        probabilidad.append(ratio[0][1])\n"
   ]
  },
  {
   "cell_type": "code",
   "execution_count": 112,
   "id": "e3f94cc8",
   "metadata": {},
   "outputs": [
    {
     "data": {
      "text/html": [
       "<div>\n",
       "<style scoped>\n",
       "    .dataframe tbody tr th:only-of-type {\n",
       "        vertical-align: middle;\n",
       "    }\n",
       "\n",
       "    .dataframe tbody tr th {\n",
       "        vertical-align: top;\n",
       "    }\n",
       "\n",
       "    .dataframe thead th {\n",
       "        text-align: right;\n",
       "    }\n",
       "</style>\n",
       "<table border=\"1\" class=\"dataframe\">\n",
       "  <thead>\n",
       "    <tr style=\"text-align: right;\">\n",
       "      <th></th>\n",
       "      <th>id_vivienda</th>\n",
       "      <th>Direccion</th>\n",
       "      <th>EXISTE</th>\n",
       "      <th>calle_problable</th>\n",
       "      <th>similitud</th>\n",
       "    </tr>\n",
       "  </thead>\n",
       "  <tbody>\n",
       "    <tr>\n",
       "      <th>0</th>\n",
       "      <td>1</td>\n",
       "      <td>Ave Maria</td>\n",
       "      <td>False</td>\n",
       "      <td>AVE MARIA</td>\n",
       "      <td>100</td>\n",
       "    </tr>\n",
       "    <tr>\n",
       "      <th>1</th>\n",
       "      <td>2</td>\n",
       "      <td>ANCHA</td>\n",
       "      <td>True</td>\n",
       "      <td>ANCHA</td>\n",
       "      <td>100</td>\n",
       "    </tr>\n",
       "    <tr>\n",
       "      <th>2</th>\n",
       "      <td>3</td>\n",
       "      <td>Ancha</td>\n",
       "      <td>False</td>\n",
       "      <td>ANCHA</td>\n",
       "      <td>100</td>\n",
       "    </tr>\n",
       "    <tr>\n",
       "      <th>3</th>\n",
       "      <td>4</td>\n",
       "      <td>Peru</td>\n",
       "      <td>False</td>\n",
       "      <td>PERU</td>\n",
       "      <td>100</td>\n",
       "    </tr>\n",
       "    <tr>\n",
       "      <th>4</th>\n",
       "      <td>6</td>\n",
       "      <td>M. Auxiliadora</td>\n",
       "      <td>False</td>\n",
       "      <td>MARIA AUXILIADORA</td>\n",
       "      <td>87</td>\n",
       "    </tr>\n",
       "    <tr>\n",
       "      <th>5</th>\n",
       "      <td>17</td>\n",
       "      <td>Calle Alamillo</td>\n",
       "      <td>False</td>\n",
       "      <td>ALAMILLO</td>\n",
       "      <td>90</td>\n",
       "    </tr>\n",
       "    <tr>\n",
       "      <th>6</th>\n",
       "      <td>18</td>\n",
       "      <td>Isabel la Catolica Salesianos</td>\n",
       "      <td>False</td>\n",
       "      <td>ISABEL LA CATOLICA</td>\n",
       "      <td>90</td>\n",
       "    </tr>\n",
       "    <tr>\n",
       "      <th>7</th>\n",
       "      <td>19</td>\n",
       "      <td>Alzazar</td>\n",
       "      <td>False</td>\n",
       "      <td>ALCAZAR</td>\n",
       "      <td>86</td>\n",
       "    </tr>\n",
       "    <tr>\n",
       "      <th>8</th>\n",
       "      <td>20</td>\n",
       "      <td>Calle Oriente</td>\n",
       "      <td>False</td>\n",
       "      <td>ORIENTE</td>\n",
       "      <td>90</td>\n",
       "    </tr>\n",
       "    <tr>\n",
       "      <th>9</th>\n",
       "      <td>21</td>\n",
       "      <td>C. Albacete</td>\n",
       "      <td>False</td>\n",
       "      <td>ALBACETE</td>\n",
       "      <td>95</td>\n",
       "    </tr>\n",
       "    <tr>\n",
       "      <th>10</th>\n",
       "      <td>42</td>\n",
       "      <td>Almadén</td>\n",
       "      <td>False</td>\n",
       "      <td>ALMADEN</td>\n",
       "      <td>92</td>\n",
       "    </tr>\n",
       "  </tbody>\n",
       "</table>\n",
       "</div>"
      ],
      "text/plain": [
       "    id_vivienda                      Direccion  EXISTE     calle_problable  \\\n",
       "0             1                      Ave Maria   False           AVE MARIA   \n",
       "1             2                          ANCHA    True               ANCHA   \n",
       "2             3                          Ancha   False               ANCHA   \n",
       "3             4                           Peru   False                PERU   \n",
       "4             6                 M. Auxiliadora   False   MARIA AUXILIADORA   \n",
       "5            17                 Calle Alamillo   False            ALAMILLO   \n",
       "6            18  Isabel la Catolica Salesianos   False  ISABEL LA CATOLICA   \n",
       "7            19                        Alzazar   False             ALCAZAR   \n",
       "8            20                  Calle Oriente   False             ORIENTE   \n",
       "9            21                    C. Albacete   False            ALBACETE   \n",
       "10           42                        Almadén   False             ALMADEN   \n",
       "\n",
       "    similitud  \n",
       "0         100  \n",
       "1         100  \n",
       "2         100  \n",
       "3         100  \n",
       "4          87  \n",
       "5          90  \n",
       "6          90  \n",
       "7          86  \n",
       "8          90  \n",
       "9          95  \n",
       "10         92  "
      ]
     },
     "execution_count": 112,
     "metadata": {},
     "output_type": "execute_result"
    }
   ],
   "source": [
    "\n",
    "tvias['calle_problable'] = pd.Series(calle_probable)\n",
    "tvias['similitud'] = pd.Series(probabilidad)\n",
    "\n",
    "tvias.head(15)"
   ]
  },
  {
   "cell_type": "markdown",
   "id": "59c73ccb",
   "metadata": {},
   "source": [
    "¡ Fuzzy Wizard ha hecho su magia! Ahora simplifiquemos este dataset resultado conservando solo las columnas `Direccion`, `calle_probable` y `similitud` con el objetivo de tener datos claros. \n",
    "\n",
    "Llamémoslo `resultado_final`: <br>\n",
    "\n"
   ]
  },
  {
   "cell_type": "code",
   "execution_count": 114,
   "id": "0aaf11bc",
   "metadata": {},
   "outputs": [
    {
     "data": {
      "text/html": [
       "<div>\n",
       "<style scoped>\n",
       "    .dataframe tbody tr th:only-of-type {\n",
       "        vertical-align: middle;\n",
       "    }\n",
       "\n",
       "    .dataframe tbody tr th {\n",
       "        vertical-align: top;\n",
       "    }\n",
       "\n",
       "    .dataframe thead th {\n",
       "        text-align: right;\n",
       "    }\n",
       "</style>\n",
       "<table border=\"1\" class=\"dataframe\">\n",
       "  <thead>\n",
       "    <tr style=\"text-align: right;\">\n",
       "      <th></th>\n",
       "      <th>Direccion</th>\n",
       "      <th>calle_problable</th>\n",
       "      <th>similitud</th>\n",
       "    </tr>\n",
       "  </thead>\n",
       "  <tbody>\n",
       "    <tr>\n",
       "      <th>0</th>\n",
       "      <td>Ave Maria</td>\n",
       "      <td>AVE MARIA</td>\n",
       "      <td>100</td>\n",
       "    </tr>\n",
       "    <tr>\n",
       "      <th>1</th>\n",
       "      <td>ANCHA</td>\n",
       "      <td>ANCHA</td>\n",
       "      <td>100</td>\n",
       "    </tr>\n",
       "    <tr>\n",
       "      <th>2</th>\n",
       "      <td>Ancha</td>\n",
       "      <td>ANCHA</td>\n",
       "      <td>100</td>\n",
       "    </tr>\n",
       "  </tbody>\n",
       "</table>\n",
       "</div>"
      ],
      "text/plain": [
       "   Direccion calle_problable  similitud\n",
       "0  Ave Maria       AVE MARIA        100\n",
       "1      ANCHA           ANCHA        100\n",
       "2      Ancha           ANCHA        100"
      ]
     },
     "execution_count": 114,
     "metadata": {},
     "output_type": "execute_result"
    }
   ],
   "source": [
    "resultado_final = tvias[['Direccion', 'calle_problable', 'similitud']]\n",
    "resultado_final.head(3)"
   ]
  },
  {
   "cell_type": "markdown",
   "id": "e86de69e",
   "metadata": {},
   "source": [
    "# AUDITANDO LOS RESULTADOS"
   ]
  },
  {
   "cell_type": "markdown",
   "id": "5b996860",
   "metadata": {},
   "source": [
    "El resultado de Fuzzy nos parta gran valor,  pero ¿cómo podemos asegurarnos de que cada direccion del portal tenga asociada para una correcta normalización el nombre correcta de al vía tal y como se define en el cartasto? \n",
    "\n",
    "Una buena manera de hacerlo es formatear dataset $resultado_final$  para que las proporciones bajas sean más fáciles de detectar e inspeccionar usando un mapa de colores. \n",
    "\n",
    "En nuestro caso, vamos a utilizar el mapa de colores de verano invertido `summer_r` donde las proporciones altas se colorean de verde y las proporciones bajas toman el color amarillo. El parametro de entrada que nos servirá para construir el mapa es de simulitud que proporciona el valor probabilistico.\n",
    "Podréis "
   ]
  },
  {
   "cell_type": "code",
   "execution_count": 119,
   "id": "d3000a28",
   "metadata": {},
   "outputs": [
    {
     "data": {
      "text/html": [
       "<style type=\"text/css\">\n",
       "#T_1d0e8_ th {\n",
       "  background: #3f577c;\n",
       "  font-family: monospace;\n",
       "  color: #ff85d5;\n",
       "  border: 3px solid white;\n",
       "  text-align: left !important;\n",
       "}\n",
       "#T_1d0e8_row0_col2, #T_1d0e8_row1_col2, #T_1d0e8_row2_col2, #T_1d0e8_row3_col2 {\n",
       "  background-color: #008066;\n",
       "  color: #f1f1f1;\n",
       "}\n",
       "#T_1d0e8_row4_col2 {\n",
       "  background-color: #edf666;\n",
       "  color: #000000;\n",
       "}\n",
       "#T_1d0e8_row5_col2, #T_1d0e8_row6_col2 {\n",
       "  background-color: #b6db66;\n",
       "  color: #000000;\n",
       "}\n",
       "#T_1d0e8_row7_col2 {\n",
       "  background-color: #ffff66;\n",
       "  color: #000000;\n",
       "}\n",
       "</style>\n",
       "<table id=\"T_1d0e8_\">\n",
       "  <thead>\n",
       "    <tr>\n",
       "      <th class=\"blank level0\" >&nbsp;</th>\n",
       "      <th class=\"col_heading level0 col0\" >Direccion</th>\n",
       "      <th class=\"col_heading level0 col1\" >calle_problable</th>\n",
       "      <th class=\"col_heading level0 col2\" >similitud</th>\n",
       "    </tr>\n",
       "  </thead>\n",
       "  <tbody>\n",
       "    <tr>\n",
       "      <th id=\"T_1d0e8_level0_row0\" class=\"row_heading level0 row0\" >0</th>\n",
       "      <td id=\"T_1d0e8_row0_col0\" class=\"data row0 col0\" >Ave Maria</td>\n",
       "      <td id=\"T_1d0e8_row0_col1\" class=\"data row0 col1\" >AVE MARIA</td>\n",
       "      <td id=\"T_1d0e8_row0_col2\" class=\"data row0 col2\" >100</td>\n",
       "    </tr>\n",
       "    <tr>\n",
       "      <th id=\"T_1d0e8_level0_row1\" class=\"row_heading level0 row1\" >1</th>\n",
       "      <td id=\"T_1d0e8_row1_col0\" class=\"data row1 col0\" >ANCHA</td>\n",
       "      <td id=\"T_1d0e8_row1_col1\" class=\"data row1 col1\" >ANCHA</td>\n",
       "      <td id=\"T_1d0e8_row1_col2\" class=\"data row1 col2\" >100</td>\n",
       "    </tr>\n",
       "    <tr>\n",
       "      <th id=\"T_1d0e8_level0_row2\" class=\"row_heading level0 row2\" >2</th>\n",
       "      <td id=\"T_1d0e8_row2_col0\" class=\"data row2 col0\" >Ancha</td>\n",
       "      <td id=\"T_1d0e8_row2_col1\" class=\"data row2 col1\" >ANCHA</td>\n",
       "      <td id=\"T_1d0e8_row2_col2\" class=\"data row2 col2\" >100</td>\n",
       "    </tr>\n",
       "    <tr>\n",
       "      <th id=\"T_1d0e8_level0_row3\" class=\"row_heading level0 row3\" >3</th>\n",
       "      <td id=\"T_1d0e8_row3_col0\" class=\"data row3 col0\" >Peru</td>\n",
       "      <td id=\"T_1d0e8_row3_col1\" class=\"data row3 col1\" >PERU</td>\n",
       "      <td id=\"T_1d0e8_row3_col2\" class=\"data row3 col2\" >100</td>\n",
       "    </tr>\n",
       "    <tr>\n",
       "      <th id=\"T_1d0e8_level0_row4\" class=\"row_heading level0 row4\" >4</th>\n",
       "      <td id=\"T_1d0e8_row4_col0\" class=\"data row4 col0\" >M. Auxiliadora</td>\n",
       "      <td id=\"T_1d0e8_row4_col1\" class=\"data row4 col1\" >MARIA AUXILIADORA</td>\n",
       "      <td id=\"T_1d0e8_row4_col2\" class=\"data row4 col2\" >87</td>\n",
       "    </tr>\n",
       "    <tr>\n",
       "      <th id=\"T_1d0e8_level0_row5\" class=\"row_heading level0 row5\" >5</th>\n",
       "      <td id=\"T_1d0e8_row5_col0\" class=\"data row5 col0\" >Calle Alamillo</td>\n",
       "      <td id=\"T_1d0e8_row5_col1\" class=\"data row5 col1\" >ALAMILLO</td>\n",
       "      <td id=\"T_1d0e8_row5_col2\" class=\"data row5 col2\" >90</td>\n",
       "    </tr>\n",
       "    <tr>\n",
       "      <th id=\"T_1d0e8_level0_row6\" class=\"row_heading level0 row6\" >6</th>\n",
       "      <td id=\"T_1d0e8_row6_col0\" class=\"data row6 col0\" >Isabel la Catolica Salesianos</td>\n",
       "      <td id=\"T_1d0e8_row6_col1\" class=\"data row6 col1\" >ISABEL LA CATOLICA</td>\n",
       "      <td id=\"T_1d0e8_row6_col2\" class=\"data row6 col2\" >90</td>\n",
       "    </tr>\n",
       "    <tr>\n",
       "      <th id=\"T_1d0e8_level0_row7\" class=\"row_heading level0 row7\" >7</th>\n",
       "      <td id=\"T_1d0e8_row7_col0\" class=\"data row7 col0\" >Alzazar</td>\n",
       "      <td id=\"T_1d0e8_row7_col1\" class=\"data row7 col1\" >ALCAZAR</td>\n",
       "      <td id=\"T_1d0e8_row7_col2\" class=\"data row7 col2\" >86</td>\n",
       "    </tr>\n",
       "  </tbody>\n",
       "</table>\n"
      ],
      "text/plain": [
       "<pandas.io.formats.style.Styler at 0x1da2b530c70>"
      ]
     },
     "execution_count": 119,
     "metadata": {},
     "output_type": "execute_result"
    }
   ],
   "source": [
    "resultado_final.head(8).style.background_gradient(subset='similitud', cmap='summer_r') \\\n",
    "                    .set_table_styles(styles)"
   ]
  },
  {
   "cell_type": "markdown",
   "id": "04bc24bd",
   "metadata": {},
   "source": [
    "Además de esto, podemos ordenar dataset `resultado_final` por `similitud` y luego inspeccionar las proporciones bajas (ojo, tenga en cuenta que una proporción alta no significa que la coincidencia sea correcta. Lo contrario también es cierto):"
   ]
  },
  {
   "cell_type": "code",
   "execution_count": 120,
   "id": "03e05aa3",
   "metadata": {},
   "outputs": [
    {
     "data": {
      "text/html": [
       "<div>\n",
       "<style scoped>\n",
       "    .dataframe tbody tr th:only-of-type {\n",
       "        vertical-align: middle;\n",
       "    }\n",
       "\n",
       "    .dataframe tbody tr th {\n",
       "        vertical-align: top;\n",
       "    }\n",
       "\n",
       "    .dataframe thead th {\n",
       "        text-align: right;\n",
       "    }\n",
       "</style>\n",
       "<table border=\"1\" class=\"dataframe\">\n",
       "  <thead>\n",
       "    <tr style=\"text-align: right;\">\n",
       "      <th></th>\n",
       "      <th>Direccion</th>\n",
       "      <th>calle_problable</th>\n",
       "      <th>similitud</th>\n",
       "    </tr>\n",
       "  </thead>\n",
       "  <tbody>\n",
       "    <tr>\n",
       "      <th>7</th>\n",
       "      <td>Alzazar</td>\n",
       "      <td>ALCAZAR</td>\n",
       "      <td>86</td>\n",
       "    </tr>\n",
       "    <tr>\n",
       "      <th>4</th>\n",
       "      <td>M. Auxiliadora</td>\n",
       "      <td>MARIA AUXILIADORA</td>\n",
       "      <td>87</td>\n",
       "    </tr>\n",
       "    <tr>\n",
       "      <th>5</th>\n",
       "      <td>Calle Alamillo</td>\n",
       "      <td>ALAMILLO</td>\n",
       "      <td>90</td>\n",
       "    </tr>\n",
       "    <tr>\n",
       "      <th>6</th>\n",
       "      <td>Isabel la Catolica Salesianos</td>\n",
       "      <td>ISABEL LA CATOLICA</td>\n",
       "      <td>90</td>\n",
       "    </tr>\n",
       "    <tr>\n",
       "      <th>8</th>\n",
       "      <td>Calle Oriente</td>\n",
       "      <td>ORIENTE</td>\n",
       "      <td>90</td>\n",
       "    </tr>\n",
       "    <tr>\n",
       "      <th>10</th>\n",
       "      <td>Almadén</td>\n",
       "      <td>ALMADEN</td>\n",
       "      <td>92</td>\n",
       "    </tr>\n",
       "    <tr>\n",
       "      <th>9</th>\n",
       "      <td>C. Albacete</td>\n",
       "      <td>ALBACETE</td>\n",
       "      <td>95</td>\n",
       "    </tr>\n",
       "    <tr>\n",
       "      <th>0</th>\n",
       "      <td>Ave Maria</td>\n",
       "      <td>AVE MARIA</td>\n",
       "      <td>100</td>\n",
       "    </tr>\n",
       "  </tbody>\n",
       "</table>\n",
       "</div>"
      ],
      "text/plain": [
       "                        Direccion     calle_problable  similitud\n",
       "7                         Alzazar             ALCAZAR         86\n",
       "4                  M. Auxiliadora   MARIA AUXILIADORA         87\n",
       "5                  Calle Alamillo            ALAMILLO         90\n",
       "6   Isabel la Catolica Salesianos  ISABEL LA CATOLICA         90\n",
       "8                   Calle Oriente             ORIENTE         90\n",
       "10                        Almadén             ALMADEN         92\n",
       "9                     C. Albacete            ALBACETE         95\n",
       "0                       Ave Maria           AVE MARIA        100"
      ]
     },
     "execution_count": 120,
     "metadata": {},
     "output_type": "execute_result"
    }
   ],
   "source": [
    "resultado_final.sort_values(by='similitud').head(8)"
   ]
  },
  {
   "cell_type": "markdown",
   "id": "efe33260",
   "metadata": {},
   "source": [
    "Pero, ¿qué puede hacer si datasetes enorme (digamos un millón de registros o más)? \n",
    "\n",
    "Puede usar **muestreo aleatorio** para controlar si la coincidencia fue exitosa o no. Debe ejecutar el código a continuación tantas veces como sea necesario, porque cada vez que lo haga obtendrá una nueva muestra aleatoria para inspeccionar (el parámetro `random_state=9` aquí asegura que obtendrá la misma muestra que yo. Eliminar para obtener una muestra aleatoria cada vez que ejecute la celda):\n",
    "\n"
   ]
  },
  {
   "cell_type": "markdown",
   "id": "61981190",
   "metadata": {},
   "source": [
    "\n",
    "El proceso anterior podría haber cometido algunos errores y/o incrementar a nivel probabilistico la tasa de acierto.\n",
    "\n",
    "Para esto hay otros  **métodos** que `FuzzyWuzzy` podría usar para generar una relación al comparar dos cadenas. \n",
    "\n",
    "Y sí, como hemos visto antes, `FuzzyWuzzy` tiene muchos métodos diferentes entre los que puede elegir según el tipo de datos con los que esté trabajando. Aquí hay una lista de los mejores métodos, alguno de los cuales utilizaremos.\n",
    "\n",
    "\n",
    "* fuzz.proporción\n",
    "* fuzz.partial_ratio\n",
    "* fuzz.token_set_ratio\n",
    "* fuzz.token_sort_ratio\n",
    "* fuzz.partial_token_set_ratio\n",
    "* fuzz.partial_token_sort_ratio\n",
    "* **Fuzz.WRatio**\n",
    "* fuzz.QRatio\n",
    "* fuzz.UWRatio\n",
    "* fuzz.UQRatio\n",
    "\n",
    "El que se usa por defecto  es `fuzz.WRatio`. Si desea usar otro `método`  simplemente deberemos pasarlo como argumento\n",
    "\n",
    "`proporción = proceso.extraer(columna_A, columna_B, límite=1, anotador=fuzz.proporción)`\n",
    "\n",
    "A continuación, probaremos algunos de estos métodos para ver cuál funciona perfectamente en nuestro caso de comparar direccioones. ¡Las previs para conseguir un  éxito del 100%!\n",
    "\n"
   ]
  },
  {
   "cell_type": "code",
   "execution_count": null,
   "id": "77bfa7a5",
   "metadata": {},
   "outputs": [],
   "source": []
  },
  {
   "cell_type": "markdown",
   "id": "b0b8c33d",
   "metadata": {},
   "source": [
    "# La búsqueda del método de FuzzyWuzzy perfecto:\n",
    "\n"
   ]
  },
  {
   "cell_type": "markdown",
   "id": "34db9438",
   "metadata": {},
   "source": [
    "Veamos todos los métodos `FuzzyWuzzy` que podemos usar. \n",
    "\n",
    "\n",
    ">* fuzz.proporción (R)\n",
    ">* fuzz.proporción_parcial (PR)\n",
    ">* fuzz.token_set_ratio (TSeR)\n",
    ">* fuzz.token_sort_ratio (TSoR)\n",
    ">* fuzz.partial_token_set_ratio (PTSeR)\n",
    ">* fuzz.partial_token_sort_ratio (PTsoR)\n",
    ">* fuzz.WRatio (WR)\n",
    ">* fuzz.QRatio (QR)\n",
    ">* fuzz.UWRatio (UWR)\n",
    ">* fuzz.UQRatio (UQR)"
   ]
  },
  {
   "cell_type": "markdown",
   "id": "08add73f",
   "metadata": {},
   "source": [
    "Para el caso de comparación de direcciones, el método que mejor rendimiento creo que nos puede ofrecer es el  **fuzz.token_set_ratio (TSeR)** no solo porque dio la proporción más alta a la dirección correcta, sino porque la diferencia entre las proporciones de la dirección correcta y la dirección incorrecta más cercana se minimizará.\n",
    "\n",
    "En cualquier caso, os llevará algún tiempo dominizar el uso de `FuzzyWuzzy` y algo de experimientación para advertir y decir el mejor método que podéis utilizar para hacer coincidir las cadenas\n",
    "\n",
    "Probaremos de nuevo con **fuzz.token_set_ratio (TSeR)* para analizar los resultados aunque definiremos una función que reciba un valor del  diccionario.\n"
   ]
  },
  {
   "cell_type": "code",
   "execution_count": 162,
   "id": "844d7faa",
   "metadata": {},
   "outputs": [],
   "source": [
    "scorer_dict = { 'R':fuzz.ratio, 'PR': fuzz.partial_ratio, 'TSeR': fuzz.token_set_ratio, 'TSoR': fuzz.token_sort_ratio,\n",
    "                'PTSeR': fuzz.partial_token_set_ratio, 'PTSoR': fuzz.partial_token_sort_ratio, 'WR': fuzz.WRatio, \n",
    "                'QR': fuzz.QRatio, 'UWR': fuzz.UWRatio, 'UQR': fuzz.UQRatio }"
   ]
  },
  {
   "cell_type": "code",
   "execution_count": 174,
   "id": "fadbb971",
   "metadata": {},
   "outputs": [
    {
     "ename": "SyntaxError",
     "evalue": "invalid syntax (Temp/ipykernel_19140/3899015336.py, line 6)",
     "output_type": "error",
     "traceback": [
      "\u001b[1;36m  File \u001b[1;32m\"C:\\Users\\MBENAV~1\\AppData\\Local\\Temp/ipykernel_19140/3899015336.py\"\u001b[1;36m, line \u001b[1;32m6\u001b[0m\n\u001b[1;33m    ratio = process.extract( i, cvias2.NOMBRE_VIA, limit=,scorer=scorer_dict[x])\u001b[0m\n\u001b[1;37m                                                         ^\u001b[0m\n\u001b[1;31mSyntaxError\u001b[0m\u001b[1;31m:\u001b[0m invalid syntax\n"
     ]
    }
   ],
   "source": [
    "def scorer_tester_function(x) :\n",
    "    calle_probable = []\n",
    "    probabilidad = []\n",
    "    for i in tvias2.Direccion:\n",
    "      \n",
    "        ratio = process.extract( i, cvias2.NOMBRE_VIA, limit=,scorer=scorer_dict[x])\n",
    "        calle_probable.append(ratio[0][0])\n",
    "        probabilidad.append(ratio[0][1])\n",
    "        tvias2['calle_problable'] = pd.Series(calle_probable)\n",
    "        tvias2['similitud'] = pd.Series(probabilidad)\n",
    "        tvias2.head(3)\n",
    "        \n",
    "                \n",
    "    return scorer_test"
   ]
  },
  {
   "cell_type": "code",
   "execution_count": 172,
   "id": "c1bed8ea",
   "metadata": {},
   "outputs": [
    {
     "data": {
      "text/html": [
       "<div>\n",
       "<style scoped>\n",
       "    .dataframe tbody tr th:only-of-type {\n",
       "        vertical-align: middle;\n",
       "    }\n",
       "\n",
       "    .dataframe tbody tr th {\n",
       "        vertical-align: top;\n",
       "    }\n",
       "\n",
       "    .dataframe thead th {\n",
       "        text-align: right;\n",
       "    }\n",
       "</style>\n",
       "<table border=\"1\" class=\"dataframe\">\n",
       "  <thead>\n",
       "    <tr style=\"text-align: right;\">\n",
       "      <th></th>\n",
       "      <th>Direccion</th>\n",
       "    </tr>\n",
       "  </thead>\n",
       "  <tbody>\n",
       "    <tr>\n",
       "      <th>0</th>\n",
       "      <td>Ave Maria</td>\n",
       "    </tr>\n",
       "    <tr>\n",
       "      <th>1</th>\n",
       "      <td>ANCHA</td>\n",
       "    </tr>\n",
       "    <tr>\n",
       "      <th>2</th>\n",
       "      <td>Ancha</td>\n",
       "    </tr>\n",
       "    <tr>\n",
       "      <th>3</th>\n",
       "      <td>Peru</td>\n",
       "    </tr>\n",
       "    <tr>\n",
       "      <th>4</th>\n",
       "      <td>M. Auxiliadora</td>\n",
       "    </tr>\n",
       "    <tr>\n",
       "      <th>5</th>\n",
       "      <td>Calle Alamillo</td>\n",
       "    </tr>\n",
       "    <tr>\n",
       "      <th>6</th>\n",
       "      <td>Isabel la Catolica Salesianos</td>\n",
       "    </tr>\n",
       "    <tr>\n",
       "      <th>7</th>\n",
       "      <td>Alzazar</td>\n",
       "    </tr>\n",
       "    <tr>\n",
       "      <th>8</th>\n",
       "      <td>Calle Oriente</td>\n",
       "    </tr>\n",
       "    <tr>\n",
       "      <th>9</th>\n",
       "      <td>C. Albacete</td>\n",
       "    </tr>\n",
       "    <tr>\n",
       "      <th>10</th>\n",
       "      <td>Almadén</td>\n",
       "    </tr>\n",
       "  </tbody>\n",
       "</table>\n",
       "</div>"
      ],
      "text/plain": [
       "                        Direccion\n",
       "0                       Ave Maria\n",
       "1                           ANCHA\n",
       "2                           Ancha\n",
       "3                            Peru\n",
       "4                  M. Auxiliadora\n",
       "5                  Calle Alamillo\n",
       "6   Isabel la Catolica Salesianos\n",
       "7                         Alzazar\n",
       "8                   Calle Oriente\n",
       "9                     C. Albacete\n",
       "10                        Almadén"
      ]
     },
     "execution_count": 172,
     "metadata": {},
     "output_type": "execute_result"
    }
   ],
   "source": [
    "scorer_tester_function('WR')\n"
   ]
  },
  {
   "cell_type": "code",
   "execution_count": 145,
   "id": "549507ce",
   "metadata": {},
   "outputs": [],
   "source": [
    "calle_probable = []\n",
    "probabilidad = []\n",
    "\n",
    "for i in tvias2.Direccion:\n",
    "        ratio = process.extract( i, cvias2.NOMBRE_VIA, limit=1,scorer=fuzz.token_set_ratio,)\n",
    "        calle_probable.append(ratio[0][0])\n",
    "        probabilidad.append(ratio[0][1])\n"
   ]
  },
  {
   "cell_type": "code",
   "execution_count": null,
   "id": "73bdc945",
   "metadata": {},
   "outputs": [],
   "source": []
  }
 ],
 "metadata": {
  "kernelspec": {
   "display_name": "Python 3 (ipykernel)",
   "language": "python",
   "name": "python3"
  },
  "language_info": {
   "codemirror_mode": {
    "name": "ipython",
    "version": 3
   },
   "file_extension": ".py",
   "mimetype": "text/x-python",
   "name": "python",
   "nbconvert_exporter": "python",
   "pygments_lexer": "ipython3",
   "version": "3.9.7"
  }
 },
 "nbformat": 4,
 "nbformat_minor": 5
}
